{
 "cells": [
  {
   "cell_type": "markdown",
   "metadata": {},
   "source": [
    "# Physics Final Project"
   ]
  },
  {
   "cell_type": "markdown",
   "metadata": {},
   "source": [
    "#### By Aadya Agrawal and Joshua Strauss"
   ]
  },
  {
   "cell_type": "markdown",
   "metadata": {},
   "source": [
    "This code was inspired by a code found on the internet and then rewritten based on our understanding. \n",
    "\n",
    "First, we imported matplotlib and numpy as well as a function 'odient' that allows us to solve the complicated differential equations used in the Hodgkin-Huxley model. "
   ]
  },
  {
   "cell_type": "code",
   "execution_count": 173,
   "metadata": {},
   "outputs": [],
   "source": [
    "import matplotlib.pyplot as plt\n",
    "import numpy as np\n",
    "\n",
    "from scipy.integrate import odeint\n"
   ]
  },
  {
   "cell_type": "markdown",
   "metadata": {},
   "source": [
    "Then we define the different constants and parameters that are needed to solve the differential equations:the time period for how long we want the program to run, the individual average conductances, membrane capacitance, and potentials of the different components. \n",
    "In our project, we vary the values of gK, gNa, gL and Cm (the channel conductances and membrane capacitance) to study the impact it has on the length of the refractory period in the neuron while everything else is held constant. \n",
    "The array for the time period is also defined. "
   ]
  },
  {
   "cell_type": "code",
   "execution_count": 174,
   "metadata": {},
   "outputs": [],
   "source": [
    "\n",
    "# Start and end time (in milliseconds)\n",
    "tmin = 0.0\n",
    "tmax = 60.0\n",
    "\n",
    "# Average potassium channel conductance per unit area (mS/cm^2)\n",
    "gK = 500.0\n",
    "\n",
    "# Average sodoum channel conductance per unit area (mS/cm^2)\n",
    "gNa = 120.0\n",
    "\n",
    "# Average leak channel conductance per unit area (mS/cm^2)\n",
    "gL = 0.3\n",
    "\n",
    "# Membrane capacitance per unit area (uF/cm^2)\n",
    "Cm = 1.0\n",
    "\n",
    "# Potassium potential (mV)\n",
    "VK = -90.0\n",
    "\n",
    "# Sodium potential (mV)\n",
    "VNa = 115.0\n",
    "\n",
    "# Leak potential (mV)\n",
    "Vl = -70\n",
    "\n",
    "# Time values\n",
    "T = np.linspace(tmin, tmax, 10000)\n"
   ]
  },
  {
   "cell_type": "markdown",
   "metadata": {},
   "source": [
    "Then we define the rate functions of the two channels as well as the steady state values of n, m, h using the equations determined by Hodgkin-Huxley in terms of the membrane potential (V_mem)."
   ]
  },
  {
   "cell_type": "code",
   "execution_count": 175,
   "metadata": {},
   "outputs": [],
   "source": [
    "# Potassium ion-channel rate functions\n",
    "\n",
    "def alpha_n(Vm):\n",
    "    return (0.01 * (10.0 - Vm)) / (np.exp(1.0 - (0.1 * Vm)) - 1.0)\n",
    "\n",
    "def beta_n(Vm):\n",
    "    return 0.125 * np.exp(-Vm / 80.0)\n",
    "\n",
    "# Sodium ion-channel rate functions\n",
    "\n",
    "def alpha_m(Vm):\n",
    "    return (0.1 * (25.0 - Vm)) / (np.exp(2.5 - (0.1 * Vm)) - 1.0)\n",
    "\n",
    "def beta_m(Vm):\n",
    "    return 4.0 * np.exp(-Vm / 18.0)\n",
    "\n",
    "def alpha_h(Vm):\n",
    "    return 0.07 * np.exp(-Vm / 20.0)\n",
    "\n",
    "def beta_h(Vm):\n",
    "    return 1.0 / (np.exp(3.0 - (0.1 * Vm)) + 1.0)\n",
    "  \n",
    "# n, m, and h steady-state values\n",
    "\n",
    "def n_steady(Vm):\n",
    "    return alpha_n(Vm) / (alpha_n(Vm) + beta_n(Vm))\n",
    "\n",
    "def m_steady(Vm):\n",
    "    return alpha_m(Vm) / (alpha_m(Vm) + beta_m(Vm))\n",
    "\n",
    "def h_steady(Vm):\n",
    "    return alpha_h(Vm) / (alpha_h(Vm) + beta_h(Vm))\n",
    "  \n"
   ]
  },
  {
   "cell_type": "markdown",
   "metadata": {},
   "source": [
    "Next, the input current stimulus is defined to provide two spikes of current of varying strength. This current is used to calculate the result of the differential equations. "
   ]
  },
  {
   "cell_type": "code",
   "execution_count": 176,
   "metadata": {},
   "outputs": [],
   "source": [
    "# Input stimulus\n",
    "def Id(t):\n",
    "    if 0.0 < t < 1.0:\n",
    "        return 150.0\n",
    "    elif 30.0 < t < 31.0:\n",
    "        return 125.0\n",
    "    return 0.0"
   ]
  },
  {
   "cell_type": "markdown",
   "metadata": {},
   "source": [
    "Then , we define a function that computes the derivatives needed to solve the differential equations. The derivatives of n, m and h are calculted using the values of alpha and beta as defined by the mathematical model. "
   ]
  },
  {
   "cell_type": "code",
   "execution_count": 177,
   "metadata": {},
   "outputs": [],
   "source": [
    "# Compute derivatives\n",
    "def compute_derivatives(y, t0):\n",
    "    dy = np.zeros((4,))\n",
    "    \n",
    "    Vm = y[0]\n",
    "    n = y[1]\n",
    "    m = y[2]\n",
    "    h = y[3]\n",
    "    \n",
    "    # dVm/dt\n",
    "    GK = (gK / Cm) * np.power(n, 4.0)\n",
    "    GNa = (gNa / Cm) * np.power(m, 3.0) * h\n",
    "    GL = gL / Cm\n",
    "    \n",
    "    dy[0] = (Id(t0) / Cm) - (GK * (Vm - VK)) - (GNa * (Vm - VNa)) - (GL * (Vm - Vl))\n",
    "    \n",
    "    # dn/dt\n",
    "    dy[1] = (alpha_n(Vm) * (1.0 - n)) - (beta_n(Vm) * n)\n",
    "    \n",
    "    # dm/dt\n",
    "    dy[2] = (alpha_m(Vm) * (1.0 - m)) - (beta_m(Vm) * m)\n",
    "    \n",
    "    # dh/dt\n",
    "    dy[3] = (alpha_h(Vm) * (1.0 - h)) - (beta_h(Vm) * h)\n",
    "    \n",
    "    return dy\n"
   ]
  },
  {
   "cell_type": "markdown",
   "metadata": {},
   "source": [
    "Finally, we define an array to record the results of the rate functions and use it in the 'odient' fucntion to solve the equations and record the results in an array as the values vary with time. "
   ]
  },
  {
   "cell_type": "code",
   "execution_count": 178,
   "metadata": {},
   "outputs": [],
   "source": [
    "Vm = -70.0  #Defined as a separate variable to allow for easy changes. \n",
    "\n",
    "# State (Vm, n, m, h)\n",
    "Y = np.array([Vm, n_steady(Vm), m_steady(Vm), h_steady(Vm)])\n",
    "\n",
    "# Solve DE system\n",
    "\n",
    "Vy = odeint(compute_derivatives, Y, T)"
   ]
  },
  {
   "cell_type": "markdown",
   "metadata": {},
   "source": [
    "We then plot the neuron potential and measure the refractory period based on the graph. A reference line is used to show that the resting potential of the neuron is -70 mV and allows for the easy calculation of the refractory period. "
   ]
  },
  {
   "cell_type": "code",
   "execution_count": 179,
   "metadata": {
    "scrolled": false
   },
   "outputs": [
    {
     "data": {
      "image/png": "[encoded data removed]",
      "text/plain": [
       "<Figure size 864x504 with 1 Axes>"
      ]
     },
     "metadata": {
      "needs_background": "light"
     },
     "output_type": "display_data"
    }
   ],
   "source": [
    "\n",
    "# Neuron potential\n",
    "fig, ax = plt.subplots(figsize=(12, 7))\n",
    "ax.plot(T, Vy[:, 0])\n",
    "ax.set_xlabel('Time (ms)')\n",
    "ax.set_ylabel('Vm (mV)')\n",
    "ax.set_title('Neuron potential with two spikes')\n",
    "ax.hlines(-70,0.01,tmax, linestyles='dotted')\n",
    "plt.grid()\n"
   ]
  },
  {
   "cell_type": "markdown",
   "metadata": {},
   "source": [
    "## Results"
   ]
  },
  {
   "cell_type": "markdown",
   "metadata": {},
   "source": [
    "The tables showing the results are displayed below:\n",
    "\n",
    "| gK | Refractory period(ms)|\n",
    "|-----|:--------------------:|\n",
    "|5 | 9|\n",
    "|20|11|\n",
    "|36 |11|\n",
    "|50| 12|\n",
    "|70 | 12|\n",
    "|150| 13|\n",
    "|500| 13.5|\n",
    "|1000|14|\n",
    "\n",
    "As we can see from above increasing the average conductance per unit area of the potassium channel (gK) increases the refractory period but as the values get larger, the relative change becomes smaller, following a logrithmic pattern.\n",
    "\n",
    "|gNa| Refractory period (ms) |\n",
    "|----|:----------------------:|\n",
    "|3|0|\n",
    "|5|5|\n",
    "|60|9|\n",
    "|100|9|\n",
    "|120|11|\n",
    "|135|10.5|\n",
    "|150|10|\n",
    "|1000|11|\n",
    "\n",
    "Changing the values of the condutance per unit area of the sodium channel (gna) behaves in a similar fashion to that of gK.\n",
    "\n",
    "|gL| Refractory Period (ms)|\n",
    "|---|:---------------------:|\n",
    "|0| $\\inf$|\n",
    "|0.03|92|\n",
    "|0.1|32|\n",
    "|0.2|16.5|\n",
    "|0.3|11.5|\n",
    "|0.6|6.9|\n",
    "|0.9|6.9|\n",
    "\n",
    "Varying the values of the conductance of the leak channel (gL) shows that as the conductance increases, the refractory period decrease exponentially and seems to approach an aymptote.\n",
    "\n",
    "|Cm| Refractory Period (ms)|\n",
    "|---|:---------------------:|\n",
    "|0 | N/A|\n",
    "|0.05 | 5.8|\n",
    "|0.1| 5.8|\n",
    "|0.5| 8|\n",
    "|1| 11.5|\n",
    "|1.3|16|\n",
    "|1.8 | N/A|\n",
    "\n",
    "On varying the membrane capacitance (Cm), we note that the model only works for a finite amount of values and increases almost linearly as the capacitance increases."
   ]
  },
  {
   "cell_type": "markdown",
   "metadata": {},
   "source": [
    "Further explanation analysis has been included in the attached word document"
   ]
  },
  {
   "cell_type": "markdown",
   "metadata": {},
   "source": [
    "Division of Labor:\n",
    "The research for the project was done by both the members. The code was modified and tested by both and then the parameters that were to be tested were divided between the two. Joshua worked on the membrane capacitance and the leak conductance, while Aadya worked on the sodium and potassium channel conductances. The results were analyzed together. Joshua worked on the word document writeup and Aadya worked on the markdown writeup in the Python Notebook. All work was cross-checked by both parties before submission. "
   ]
  }
 ],
 "metadata": {
  "kernelspec": {
   "display_name": "Python 3",
   "language": "python",
   "name": "python3"
  },
  "language_info": {
   "codemirror_mode": {
    "name": "ipython",
    "version": 3
   },
   "file_extension": ".py",
   "mimetype": "text/x-python",
   "name": "python",
   "nbconvert_exporter": "python",
   "pygments_lexer": "ipython3",
   "version": "3.7.4"
  }
 },
 "nbformat": 4,
 "nbformat_minor": 2
}
